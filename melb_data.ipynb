{
 "cells": [
  {
   "cell_type": "code",
   "execution_count": 1,
   "metadata": {},
   "outputs": [],
   "source": [
    "import pandas as pd\n",
    "import numpy as np\n",
    "import matplotlib.pyplot as plt\n",
    "import seaborn as sns\n",
    "import warnings\n",
    "warnings.filterwarnings('ignore')"
   ]
  },
  {
   "cell_type": "code",
   "execution_count": 2,
   "metadata": {},
   "outputs": [],
   "source": [
    "df=pd.read_csv(\"C:/Users/arohi/.jupyter/melb_data.csv\")"
   ]
  },
  {
   "cell_type": "code",
   "execution_count": 3,
   "metadata": {},
   "outputs": [
    {
     "data": {
      "text/html": [
       "<div>\n",
       "<style scoped>\n",
       "    .dataframe tbody tr th:only-of-type {\n",
       "        vertical-align: middle;\n",
       "    }\n",
       "\n",
       "    .dataframe tbody tr th {\n",
       "        vertical-align: top;\n",
       "    }\n",
       "\n",
       "    .dataframe thead th {\n",
       "        text-align: right;\n",
       "    }\n",
       "</style>\n",
       "<table border=\"1\" class=\"dataframe\">\n",
       "  <thead>\n",
       "    <tr style=\"text-align: right;\">\n",
       "      <th></th>\n",
       "      <th>Suburb</th>\n",
       "      <th>Address</th>\n",
       "      <th>Rooms</th>\n",
       "      <th>Type</th>\n",
       "      <th>Price</th>\n",
       "      <th>Method</th>\n",
       "      <th>SellerG</th>\n",
       "      <th>Date</th>\n",
       "      <th>Distance</th>\n",
       "      <th>Postcode</th>\n",
       "      <th>...</th>\n",
       "      <th>Bathroom</th>\n",
       "      <th>Car</th>\n",
       "      <th>Landsize</th>\n",
       "      <th>BuildingArea</th>\n",
       "      <th>YearBuilt</th>\n",
       "      <th>CouncilArea</th>\n",
       "      <th>Lattitude</th>\n",
       "      <th>Longtitude</th>\n",
       "      <th>Regionname</th>\n",
       "      <th>Propertycount</th>\n",
       "    </tr>\n",
       "  </thead>\n",
       "  <tbody>\n",
       "    <tr>\n",
       "      <th>0</th>\n",
       "      <td>Abbotsford</td>\n",
       "      <td>85 Turner St</td>\n",
       "      <td>2</td>\n",
       "      <td>h</td>\n",
       "      <td>1480000</td>\n",
       "      <td>S</td>\n",
       "      <td>Biggin</td>\n",
       "      <td>03-12-2016</td>\n",
       "      <td>2.5</td>\n",
       "      <td>3067</td>\n",
       "      <td>...</td>\n",
       "      <td>1</td>\n",
       "      <td>1.0</td>\n",
       "      <td>202</td>\n",
       "      <td>NaN</td>\n",
       "      <td>NaN</td>\n",
       "      <td>Yarra</td>\n",
       "      <td>-37.7996</td>\n",
       "      <td>144.9984</td>\n",
       "      <td>Northern Metropolitan</td>\n",
       "      <td>4019</td>\n",
       "    </tr>\n",
       "    <tr>\n",
       "      <th>1</th>\n",
       "      <td>Abbotsford</td>\n",
       "      <td>25 Bloomburg St</td>\n",
       "      <td>2</td>\n",
       "      <td>h</td>\n",
       "      <td>1035000</td>\n",
       "      <td>S</td>\n",
       "      <td>Biggin</td>\n",
       "      <td>04-02-2016</td>\n",
       "      <td>2.5</td>\n",
       "      <td>3067</td>\n",
       "      <td>...</td>\n",
       "      <td>1</td>\n",
       "      <td>0.0</td>\n",
       "      <td>156</td>\n",
       "      <td>79.0</td>\n",
       "      <td>1900.0</td>\n",
       "      <td>Yarra</td>\n",
       "      <td>-37.8079</td>\n",
       "      <td>144.9934</td>\n",
       "      <td>Northern Metropolitan</td>\n",
       "      <td>4019</td>\n",
       "    </tr>\n",
       "    <tr>\n",
       "      <th>2</th>\n",
       "      <td>Abbotsford</td>\n",
       "      <td>5 Charles St</td>\n",
       "      <td>3</td>\n",
       "      <td>h</td>\n",
       "      <td>1465000</td>\n",
       "      <td>SP</td>\n",
       "      <td>Biggin</td>\n",
       "      <td>04-03-2017</td>\n",
       "      <td>2.5</td>\n",
       "      <td>3067</td>\n",
       "      <td>...</td>\n",
       "      <td>2</td>\n",
       "      <td>0.0</td>\n",
       "      <td>134</td>\n",
       "      <td>150.0</td>\n",
       "      <td>1900.0</td>\n",
       "      <td>Yarra</td>\n",
       "      <td>-37.8093</td>\n",
       "      <td>144.9944</td>\n",
       "      <td>Northern Metropolitan</td>\n",
       "      <td>4019</td>\n",
       "    </tr>\n",
       "    <tr>\n",
       "      <th>3</th>\n",
       "      <td>Abbotsford</td>\n",
       "      <td>40 Federation La</td>\n",
       "      <td>3</td>\n",
       "      <td>h</td>\n",
       "      <td>850000</td>\n",
       "      <td>PI</td>\n",
       "      <td>Biggin</td>\n",
       "      <td>04-03-2017</td>\n",
       "      <td>2.5</td>\n",
       "      <td>3067</td>\n",
       "      <td>...</td>\n",
       "      <td>2</td>\n",
       "      <td>1.0</td>\n",
       "      <td>94</td>\n",
       "      <td>NaN</td>\n",
       "      <td>NaN</td>\n",
       "      <td>Yarra</td>\n",
       "      <td>-37.7969</td>\n",
       "      <td>144.9969</td>\n",
       "      <td>Northern Metropolitan</td>\n",
       "      <td>4019</td>\n",
       "    </tr>\n",
       "    <tr>\n",
       "      <th>4</th>\n",
       "      <td>Abbotsford</td>\n",
       "      <td>55a Park St</td>\n",
       "      <td>4</td>\n",
       "      <td>h</td>\n",
       "      <td>1600000</td>\n",
       "      <td>VB</td>\n",
       "      <td>Nelson</td>\n",
       "      <td>04-06-2016</td>\n",
       "      <td>2.5</td>\n",
       "      <td>3067</td>\n",
       "      <td>...</td>\n",
       "      <td>1</td>\n",
       "      <td>2.0</td>\n",
       "      <td>120</td>\n",
       "      <td>142.0</td>\n",
       "      <td>2014.0</td>\n",
       "      <td>Yarra</td>\n",
       "      <td>-37.8072</td>\n",
       "      <td>144.9941</td>\n",
       "      <td>Northern Metropolitan</td>\n",
       "      <td>4019</td>\n",
       "    </tr>\n",
       "  </tbody>\n",
       "</table>\n",
       "<p>5 rows × 21 columns</p>\n",
       "</div>"
      ],
      "text/plain": [
       "       Suburb           Address  Rooms Type    Price Method SellerG  \\\n",
       "0  Abbotsford      85 Turner St      2    h  1480000      S  Biggin   \n",
       "1  Abbotsford   25 Bloomburg St      2    h  1035000      S  Biggin   \n",
       "2  Abbotsford      5 Charles St      3    h  1465000     SP  Biggin   \n",
       "3  Abbotsford  40 Federation La      3    h   850000     PI  Biggin   \n",
       "4  Abbotsford       55a Park St      4    h  1600000     VB  Nelson   \n",
       "\n",
       "         Date  Distance  Postcode  ...  Bathroom  Car  Landsize  BuildingArea  \\\n",
       "0  03-12-2016       2.5      3067  ...         1  1.0       202           NaN   \n",
       "1  04-02-2016       2.5      3067  ...         1  0.0       156          79.0   \n",
       "2  04-03-2017       2.5      3067  ...         2  0.0       134         150.0   \n",
       "3  04-03-2017       2.5      3067  ...         2  1.0        94           NaN   \n",
       "4  04-06-2016       2.5      3067  ...         1  2.0       120         142.0   \n",
       "\n",
       "   YearBuilt  CouncilArea Lattitude  Longtitude             Regionname  \\\n",
       "0        NaN        Yarra  -37.7996    144.9984  Northern Metropolitan   \n",
       "1     1900.0        Yarra  -37.8079    144.9934  Northern Metropolitan   \n",
       "2     1900.0        Yarra  -37.8093    144.9944  Northern Metropolitan   \n",
       "3        NaN        Yarra  -37.7969    144.9969  Northern Metropolitan   \n",
       "4     2014.0        Yarra  -37.8072    144.9941  Northern Metropolitan   \n",
       "\n",
       "  Propertycount  \n",
       "0          4019  \n",
       "1          4019  \n",
       "2          4019  \n",
       "3          4019  \n",
       "4          4019  \n",
       "\n",
       "[5 rows x 21 columns]"
      ]
     },
     "execution_count": 3,
     "metadata": {},
     "output_type": "execute_result"
    }
   ],
   "source": [
    "df.head()"
   ]
  },
  {
   "cell_type": "code",
   "execution_count": 10,
   "metadata": {},
   "outputs": [
    {
     "data": {
      "text/plain": [
       "(13580, 21)"
      ]
     },
     "execution_count": 10,
     "metadata": {},
     "output_type": "execute_result"
    }
   ],
   "source": [
    "df.shape"
   ]
  },
  {
   "cell_type": "code",
   "execution_count": 5,
   "metadata": {},
   "outputs": [
    {
     "name": "stdout",
     "output_type": "stream",
     "text": [
      "<class 'pandas.core.frame.DataFrame'>\n",
      "RangeIndex: 13580 entries, 0 to 13579\n",
      "Data columns (total 21 columns):\n",
      " #   Column         Non-Null Count  Dtype  \n",
      "---  ------         --------------  -----  \n",
      " 0   Suburb         13580 non-null  object \n",
      " 1   Address        13580 non-null  object \n",
      " 2   Rooms          13580 non-null  int64  \n",
      " 3   Type           13580 non-null  object \n",
      " 4   Price          13580 non-null  int64  \n",
      " 5   Method         13580 non-null  object \n",
      " 6   SellerG        13580 non-null  object \n",
      " 7   Date           13580 non-null  object \n",
      " 8   Distance       13580 non-null  float64\n",
      " 9   Postcode       13580 non-null  int64  \n",
      " 10  Bedroom2       13580 non-null  int64  \n",
      " 11  Bathroom       13580 non-null  int64  \n",
      " 12  Car            13518 non-null  float64\n",
      " 13  Landsize       13580 non-null  int64  \n",
      " 14  BuildingArea   7130 non-null   float64\n",
      " 15  YearBuilt      8205 non-null   float64\n",
      " 16  CouncilArea    12211 non-null  object \n",
      " 17  Lattitude      13580 non-null  float64\n",
      " 18  Longtitude     13580 non-null  float64\n",
      " 19  Regionname     13580 non-null  object \n",
      " 20  Propertycount  13580 non-null  int64  \n",
      "dtypes: float64(6), int64(7), object(8)\n",
      "memory usage: 2.2+ MB\n"
     ]
    }
   ],
   "source": [
    "df.info()"
   ]
  },
  {
   "cell_type": "code",
   "execution_count": 11,
   "metadata": {},
   "outputs": [
    {
     "data": {
      "text/plain": [
       "Suburb              0\n",
       "Address             0\n",
       "Rooms               0\n",
       "Type                0\n",
       "Price               0\n",
       "Method              0\n",
       "SellerG             0\n",
       "Date                0\n",
       "Distance            0\n",
       "Postcode            0\n",
       "Bedroom2            0\n",
       "Bathroom            0\n",
       "Car                62\n",
       "Landsize            0\n",
       "BuildingArea     6450\n",
       "YearBuilt        5375\n",
       "CouncilArea      1369\n",
       "Lattitude           0\n",
       "Longtitude          0\n",
       "Regionname          0\n",
       "Propertycount       0\n",
       "dtype: int64"
      ]
     },
     "execution_count": 11,
     "metadata": {},
     "output_type": "execute_result"
    }
   ],
   "source": [
    "#check null value\n",
    "df.isnull().sum()"
   ]
  },
  {
   "cell_type": "code",
   "execution_count": 25,
   "metadata": {
    "scrolled": false
   },
   "outputs": [
    {
     "data": {
      "text/plain": [
       "array([         nan, 7.900000e+01, 1.500000e+02, 1.420000e+02,\n",
       "       2.100000e+02, 1.070000e+02, 7.500000e+01, 1.900000e+02,\n",
       "       9.400000e+01, 9.700000e+01, 1.100000e+02, 1.050000e+02,\n",
       "       7.300000e+01, 1.350000e+02, 2.700000e+01, 6.000000e+01,\n",
       "       8.500000e+01, 1.740000e+02, 5.000000e+01, 1.280000e+02,\n",
       "       1.800000e+01, 1.240000e+02, 9.100000e+01, 8.200000e+01,\n",
       "       8.100000e+01, 2.250000e+02, 1.450000e+02, 8.400000e+01,\n",
       "       1.340000e+02, 1.160000e+02, 8.600000e+01, 1.270000e+02,\n",
       "       1.860000e+02, 9.000000e+01, 1.330000e+02, 1.300000e+02,\n",
       "       1.130000e+02, 1.000000e+02, 3.090000e+02, 1.920000e+02,\n",
       "       1.260000e+02, 1.010000e+02, 1.020000e+02, 7.600000e+01,\n",
       "       1.460000e+02, 1.980000e+02, 1.800000e+02, 1.590000e+02,\n",
       "       1.220000e+02, 1.810000e+02, 9.800000e+01, 8.300000e+01,\n",
       "       1.470000e+02, 2.540000e+02, 1.230000e+02, 1.310000e+02,\n",
       "       3.400000e+01, 2.070000e+02, 6.800000e+01, 5.400000e+01,\n",
       "       2.630000e+02, 2.030000e+02, 1.650000e+02, 1.400000e+02,\n",
       "       1.120000e+02, 2.710000e+02, 6.100000e+01, 2.720000e+02,\n",
       "       2.420000e+02, 2.680000e+02, 1.250000e+02, 1.200000e+02,\n",
       "       2.200000e+02, 9.300000e+01, 2.200000e+01, 5.700000e+01,\n",
       "       1.520000e+02, 6.500000e+01, 1.760000e+02, 1.410000e+02,\n",
       "       7.700000e+01, 8.700000e+01, 1.360000e+02, 3.000000e+00,\n",
       "       2.510000e+02, 1.170000e+02, 1.670000e+02, 1.180000e+02,\n",
       "       1.690000e+02, 1.090000e+02, 6.030000e+02, 1.700000e+02,\n",
       "       1.570000e+02, 1.600000e+02, 1.580000e+02, 7.000000e+01,\n",
       "       1.400000e+01, 3.800000e+01, 9.600000e+01, 2.220000e+02,\n",
       "       1.210000e+02, 1.630000e+02, 5.160000e+02, 5.300000e+01,\n",
       "       1.060000e+02, 7.400000e+01, 1.080000e+02, 8.000000e+01,\n",
       "       8.800000e+01, 3.330000e+02, 2.850000e+02, 6.200000e+01,\n",
       "       2.700000e+02, 4.350000e+02, 9.200000e+01, 1.680000e+02,\n",
       "       1.480000e+02, 1.850000e+02, 5.800000e+01, 1.390000e+02,\n",
       "       2.320000e+02, 1.950000e+02, 2.040000e+02, 2.860000e+02,\n",
       "       1.040000e+02, 1.490000e+02, 1.320000e+02, 6.900000e+01,\n",
       "       1.550000e+02, 1.720000e+02, 1.770000e+02, 1.440000e+02,\n",
       "       1.660000e+02, 1.750000e+02, 7.100000e+01, 2.730000e+02,\n",
       "       3.990000e+02, 3.150000e+02, 1.780000e+02, 6.180000e+02,\n",
       "       2.280000e+02, 4.440000e+02, 3.900000e+02, 2.060000e+02,\n",
       "       1.110000e+02, 1.990000e+02, 2.660000e+02, 2.740000e+02,\n",
       "       2.400000e+02, 2.780000e+02, 1.640000e+02, 2.010000e+02,\n",
       "       1.140000e+02, 7.920000e+02, 2.150000e+02, 2.550000e+02,\n",
       "       3.170000e+02, 1.030000e+02, 1.430000e+02, 2.810000e+02,\n",
       "       3.950000e+02, 1.530000e+02, 4.900000e+01, 5.900000e+01,\n",
       "       5.100000e+01, 2.180000e+02, 1.290000e+02, 4.200000e+02,\n",
       "       2.260000e+02, 4.100000e+02, 4.490000e+02, 3.560000e+02,\n",
       "       3.490000e+02, 7.200000e+01, 2.520000e+02, 2.000000e+02,\n",
       "       3.080000e+02, 2.410000e+02, 4.650000e+02, 3.360000e+02,\n",
       "       5.020000e+02, 2.530000e+02, 3.500000e+02, 2.910000e+02,\n",
       "       1.930000e+02, 2.600000e+02, 1.150000e+02, 1.540000e+02,\n",
       "       2.750000e+02, 4.770000e+02, 1.370000e+02, 2.140000e+02,\n",
       "       5.200000e+02, 3.300000e+02, 3.650000e+02, 3.550000e+02,\n",
       "       2.470000e+02, 1.880000e+02, 5.290000e+02, 2.440000e+02,\n",
       "       1.960000e+02, 7.200000e+02, 5.180000e+02, 2.500000e+02,\n",
       "       5.000000e+00, 1.510000e+02, 2.120000e+02, 1.940000e+02,\n",
       "       2.050000e+02, 1.380000e+02, 2.330000e+02, 3.530000e+02,\n",
       "       4.750000e+02, 1.970000e+02, 2.450000e+02, 2.840000e+02,\n",
       "       3.610000e+02, 7.660000e+02, 9.500000e+01, 1.910000e+02,\n",
       "       7.800000e+01, 1.190000e+02, 2.310000e+02, 1.560000e+02,\n",
       "       2.570000e+02, 2.560000e+02, 3.370000e+02, 2.800000e+01,\n",
       "       2.650000e+02, 5.380000e+02, 9.900000e+01, 2.960000e+02,\n",
       "       2.190000e+02, 2.350000e+02, 1.620000e+02, 2.160000e+02,\n",
       "       2.090000e+02, 1.710000e+02, 3.410000e+02, 3.400000e+02,\n",
       "       2.020000e+02, 2.620000e+02, 3.640000e+02, 2.210000e+02,\n",
       "       4.230000e+02, 4.000000e+01, 3.020000e+02, 4.190000e+02,\n",
       "       2.290000e+02, 3.050000e+02, 3.110000e+02, 2.000000e+00,\n",
       "       3.190000e+02, 2.460000e+02, 1.610000e+02, 3.040000e+02,\n",
       "       2.130000e+02, 1.830000e+02, 5.940000e+02, 1.820000e+02,\n",
       "       2.380000e+02, 3.460000e+02, 6.600000e+01, 4.000000e+00,\n",
       "       2.880000e+02, 2.870000e+02, 8.900000e+01, 4.500000e+01,\n",
       "       1.041000e+03, 1.000000e+00, 4.200000e+01, 3.210000e+02,\n",
       "       3.700000e+01, 6.400000e+01, 4.300000e+01, 1.840000e+02,\n",
       "       3.230000e+02, 6.791000e+03, 7.190000e+02, 3.000000e+02,\n",
       "       3.800000e+02, 1.890000e+02, 3.480000e+02, 5.600000e+01,\n",
       "       3.112000e+03, 4.070000e+02, 2.820000e+02, 4.530000e+02,\n",
       "       3.630000e+02, 2.970000e+02, 1.730000e+02, 4.270000e+02,\n",
       "       4.110000e+02, 2.760000e+02, 4.800000e+01, 6.700000e+01,\n",
       "       3.300000e+01, 2.370000e+02, 2.230000e+02, 5.440000e+02,\n",
       "       3.130000e+02, 6.300000e+01, 4.400000e+01, 2.770000e+02,\n",
       "       2.300000e+02, 2.490000e+02, 1.870000e+02, 1.300000e+01,\n",
       "       2.580000e+02, 5.200000e+01, 3.200000e+02, 4.290000e+02,\n",
       "       2.610000e+02, 3.060000e+02, 3.270000e+02, 2.900000e+02,\n",
       "       2.360000e+02, 3.220000e+02, 4.780000e+02, 1.561000e+03,\n",
       "       4.700000e+01, 2.110000e+02, 2.670000e+02, 5.500000e+01,\n",
       "       3.780000e+02, 2.170000e+02, 2.240000e+02, 2.270000e+02,\n",
       "       4.540000e+02, 7.000000e+02, 2.800000e+02, 3.558000e+03,\n",
       "       3.070000e+02, 2.000000e+01, 4.600000e+01, 3.500000e+01,\n",
       "       3.140000e+02, 3.510000e+02, 3.000000e+01, 2.480000e+02,\n",
       "       2.600000e+01, 3.260000e+02, 1.143000e+03, 6.070000e+02,\n",
       "       3.540000e+02, 2.950000e+02, 6.720000e+02, 1.900000e+01,\n",
       "       2.640000e+02, 3.250000e+02, 4.130000e+02, 3.240000e+02,\n",
       "       6.130000e+02, 3.030000e+02, 4.100000e+01, 3.730000e+02,\n",
       "       3.440000e+02, 2.080000e+02, 2.920000e+02, 4.140000e+02,\n",
       "       1.200000e+01, 3.740000e+02, 4.260000e+02, 4.000000e+02,\n",
       "       3.580000e+02, 1.022000e+03, 3.420000e+02, 2.930000e+02,\n",
       "       3.600000e+02, 3.100000e+02, 3.920000e+02, 3.390000e+02,\n",
       "       2.430000e+02, 2.340000e+02, 2.500000e+01, 3.900000e+01,\n",
       "       3.720000e+02, 3.290000e+02, 1.600000e+01, 1.790000e+02,\n",
       "       0.000000e+00, 3.310000e+02, 1.000000e+01, 2.390000e+02,\n",
       "       5.010000e+02, 4.500000e+02, 5.060000e+02, 5.280000e+02,\n",
       "       4.670000e+02, 5.580000e+02, 5.250000e+02, 5.570000e+02,\n",
       "       3.120000e+02, 3.470000e+02, 6.500000e+02, 6.730000e+02,\n",
       "       1.500000e+01, 3.620000e+02, 3.350000e+02, 3.450000e+02,\n",
       "       3.770000e+02, 3.320000e+02, 3.670000e+02, 7.000000e+00,\n",
       "       3.750000e+02, 2.790000e+02, 3.160000e+02, 3.380000e+02,\n",
       "       3.570000e+02, 4.050000e+02, 3.180000e+02, 3.600000e+01,\n",
       "       8.080000e+02, 7.230000e+01, 6.623000e+01, 1.015100e+02,\n",
       "       6.811000e+01, 2.830000e+02, 1.968000e+02, 1.734500e+02,\n",
       "       1.793000e+02, 1.343000e+02, 4.643000e+02, 7.677000e+01,\n",
       "       1.062000e+02, 1.129000e+02, 1.137600e+02, 1.531000e+02,\n",
       "       3.200000e+01, 8.520000e+01, 7.290000e+01, 9.950000e+01,\n",
       "       1.074000e+02, 1.426000e+02, 5.300000e+02, 7.750000e+01,\n",
       "       8.230000e+01, 2.557900e+02, 4.240000e+02, 1.863600e+02,\n",
       "       4.900000e+02, 1.472000e+02, 2.259800e+02, 9.000000e+00,\n",
       "       1.036000e+02, 6.370000e+01, 1.108700e+02, 9.384000e+01,\n",
       "       1.244500e+02, 1.138100e+02, 1.067600e+02, 2.106800e+02,\n",
       "       3.950000e+01, 1.052300e+02, 1.013700e+02, 1.232100e+02,\n",
       "       1.407481e+02, 8.650000e+01, 3.060000e+01, 2.255000e+02,\n",
       "       4.095400e+02, 1.566000e+02, 2.276000e+02, 1.046300e+02,\n",
       "       4.430000e+02, 1.671300e+02, 1.485000e+02, 2.701800e+02,\n",
       "       5.330000e+01, 9.850000e+01, 1.579351e+02, 3.280000e+02,\n",
       "       9.430000e+01, 2.100000e+01, 9.588000e+01, 1.057000e+02,\n",
       "       4.540000e+01, 2.213000e+02, 1.132000e+02, 1.867500e+02,\n",
       "       5.400000e+02, 1.278000e+02, 1.064000e+02, 5.600000e+02,\n",
       "       1.680100e+02, 3.061900e+02, 5.157800e+02, 1.961000e+02,\n",
       "       7.890000e+02, 1.312700e+02, 1.678700e+02, 1.839700e+02,\n",
       "       1.995000e+02, 2.900000e+01, 4.460000e+02, 5.000000e+02,\n",
       "       7.545000e+01, 1.655000e+02, 2.635000e+02, 4.310000e+02,\n",
       "       5.850000e+02, 7.360000e+02, 3.716122e+02, 1.997300e+02,\n",
       "       1.185400e+02, 2.982100e+02, 1.695000e+02, 3.700000e+02,\n",
       "       4.220000e+01, 1.355000e+02, 2.667600e+02, 2.724000e+02,\n",
       "       1.778000e+02, 1.394000e+02, 1.017600e+02, 6.340000e+02,\n",
       "       1.950964e+02, 4.700000e+02, 1.305200e+02, 5.470000e+02,\n",
       "       1.110400e+02, 6.340000e+01, 9.250000e+01, 1.159600e+02,\n",
       "       1.218400e+02, 1.228600e+02, 1.142000e+02, 2.665300e+02,\n",
       "       7.854000e+01, 8.535000e+01, 3.520000e+02, 3.910000e+02,\n",
       "       1.218000e+02, 8.260000e+01, 1.364900e+02, 6.800000e+02,\n",
       "       1.579352e+02, 1.268000e+02, 1.006000e+02, 4.440000e+01,\n",
       "       1.515400e+02, 1.809000e+02, 8.268367e+02, 3.660000e+02,\n",
       "       6.250000e+02, 9.450000e+01, 1.166500e+02, 1.100000e+01,\n",
       "       1.346000e+02, 1.838400e+02, 1.267000e+02, 3.340000e+02,\n",
       "       1.164000e+02, 1.828500e+02, 1.095000e+02, 1.297000e+02,\n",
       "       6.650000e+02, 3.980000e+02, 1.484700e+02, 5.530000e+02,\n",
       "       5.310000e+02, 1.829000e+02, 1.847500e+02, 1.937400e+02,\n",
       "       6.850000e+01, 1.099800e+02, 1.222500e+02, 1.059000e+02,\n",
       "       1.017000e+02, 1.069000e+02, 9.382000e+01, 1.326000e+02,\n",
       "       1.543000e+02, 1.787400e+02, 8.830000e+01, 8.070000e+01,\n",
       "       8.925000e+01, 1.816000e+02, 1.044000e+02, 1.805600e+02,\n",
       "       1.235000e+02, 2.007100e+02, 8.179000e+01, 9.340000e+02,\n",
       "       1.299200e+02, 4.370000e+01, 1.136000e+02, 6.632000e+01,\n",
       "       3.564000e+01, 6.160000e+01, 3.885000e+02, 3.970000e+02,\n",
       "       4.950000e+02, 6.770000e+02, 4.390000e+02, 5.030000e+02,\n",
       "       5.120000e+02, 2.590000e+02, 2.940000e+02, 5.750000e+02,\n",
       "       6.530000e+02, 4.451500e+04, 3.680000e+02])"
      ]
     },
     "execution_count": 25,
     "metadata": {},
     "output_type": "execute_result"
    }
   ],
   "source": [
    "df[\"BuildingArea\"].unique()   "
   ]
  },
  {
   "cell_type": "code",
   "execution_count": 30,
   "metadata": {},
   "outputs": [],
   "source": [
    "df[\"BuildingArea\"].replace(\"?\",np.nan,inplace=True) #change permanenetly\n",
    "#type change permanently"
   ]
  },
  {
   "cell_type": "code",
   "execution_count": 26,
   "metadata": {},
   "outputs": [
    {
     "data": {
      "text/plain": [
       "array([  nan, 1900., 2014., 1910., 1890., 2005., 2009., 1880., 1985.,\n",
       "       2010., 1970., 2013., 2012., 1920., 1950., 1998., 1930., 2016.,\n",
       "       1965., 1980., 2011., 2015., 1975., 1993., 1960., 2003., 1995.,\n",
       "       1996., 2000., 1925., 2004., 2008., 1962., 1955., 1988., 1953.,\n",
       "       1997., 1990., 2007., 1967., 1964., 1889., 1888., 2006., 1934.,\n",
       "       1935., 1966., 1969., 1940., 1938., 1887., 1904., 1972., 1978.,\n",
       "       1939., 1945., 1947., 1958., 2017., 1999., 1992., 1961., 1928.,\n",
       "       1977., 1976., 2001., 1948., 1927., 1981., 1943., 1974., 1968.,\n",
       "       1957., 1987., 1986., 1926., 2002., 1994., 1949., 1905., 1912.,\n",
       "       1924., 1952., 1991., 1942., 1973., 1915., 2018., 1916., 1982.,\n",
       "       1971., 1963., 1897., 1989., 1919., 1923., 1983., 1903., 1830.,\n",
       "       1895., 1937., 1908., 1913., 1917., 1885., 1902., 1854., 1850.,\n",
       "       1898., 1941., 1951., 1946., 1956., 1984., 1901., 1959., 1979.,\n",
       "       1933., 1886., 1929., 1906., 1870., 1932., 1875., 1863., 1918.,\n",
       "       1893., 1856., 1860., 1877., 1894., 1914., 1868., 1884., 1907.,\n",
       "       1954., 1922., 1921., 1896., 1872., 1196., 1892., 1862., 1936.,\n",
       "       1857.])"
      ]
     },
     "execution_count": 26,
     "metadata": {},
     "output_type": "execute_result"
    }
   ],
   "source": [
    "df[\"YearBuilt\"].unique() "
   ]
  },
  {
   "cell_type": "code",
   "execution_count": 31,
   "metadata": {},
   "outputs": [],
   "source": [
    "df[\"YearBuilt\"].replace(\"?\",np.nan,inplace=True) #change permanenetly\n",
    "#type change permanently"
   ]
  },
  {
   "cell_type": "code",
   "execution_count": 28,
   "metadata": {},
   "outputs": [
    {
     "data": {
      "text/plain": [
       "array(['Yarra', 'Moonee Valley', 'Port Phillip', 'Darebin', 'Hobsons Bay',\n",
       "       'Stonnington', 'Boroondara', 'Monash', 'Glen Eira', 'Whitehorse',\n",
       "       'Maribyrnong', 'Bayside', 'Moreland', 'Manningham', 'Banyule',\n",
       "       'Melbourne', 'Kingston', 'Brimbank', 'Hume', nan, 'Knox',\n",
       "       'Maroondah', 'Casey', 'Melton', 'Greater Dandenong', 'Nillumbik',\n",
       "       'Whittlesea', 'Frankston', 'Macedon Ranges', 'Yarra Ranges',\n",
       "       'Wyndham', 'Cardinia', 'Unavailable', 'Moorabool'], dtype=object)"
      ]
     },
     "execution_count": 28,
     "metadata": {},
     "output_type": "execute_result"
    }
   ],
   "source": [
    "df.CouncilArea.unique()"
   ]
  },
  {
   "cell_type": "code",
   "execution_count": 32,
   "metadata": {},
   "outputs": [
    {
     "name": "stdout",
     "output_type": "stream",
     "text": [
      "<class 'pandas.core.frame.DataFrame'>\n",
      "Int64Index: 13580 entries, 0 to 13579\n",
      "Data columns (total 21 columns):\n",
      " #   Column         Non-Null Count  Dtype  \n",
      "---  ------         --------------  -----  \n",
      " 0   Suburb         13580 non-null  object \n",
      " 1   Address        13580 non-null  object \n",
      " 2   Rooms          13580 non-null  int64  \n",
      " 3   Type           13580 non-null  object \n",
      " 4   Price          13580 non-null  int64  \n",
      " 5   Method         13580 non-null  object \n",
      " 6   SellerG        13580 non-null  object \n",
      " 7   Date           13580 non-null  object \n",
      " 8   Distance       13580 non-null  float64\n",
      " 9   Postcode       13580 non-null  int64  \n",
      " 10  Bedroom2       13580 non-null  int64  \n",
      " 11  Bathroom       13580 non-null  int64  \n",
      " 12  Car            13518 non-null  float64\n",
      " 13  Landsize       13580 non-null  int64  \n",
      " 14  BuildingArea   7130 non-null   float64\n",
      " 15  YearBuilt      8205 non-null   float64\n",
      " 16  CouncilArea    12211 non-null  object \n",
      " 17  Lattitude      13580 non-null  float64\n",
      " 18  Longtitude     13580 non-null  float64\n",
      " 19  Regionname     13580 non-null  object \n",
      " 20  Propertycount  13580 non-null  int64  \n",
      "dtypes: float64(6), int64(7), object(8)\n",
      "memory usage: 2.3+ MB\n"
     ]
    }
   ],
   "source": [
    "df.info()"
   ]
  },
  {
   "cell_type": "code",
   "execution_count": 33,
   "metadata": {},
   "outputs": [],
   "source": [
    "df[\"BuildingArea\"].fillna(df[\"BuildingArea\"].mean(),inplace=True)"
   ]
  },
  {
   "cell_type": "code",
   "execution_count": 34,
   "metadata": {},
   "outputs": [],
   "source": [
    "df[\"YearBuilt\"].fillna(df[\"YearBuilt\"].mean(),inplace=True)"
   ]
  },
  {
   "cell_type": "code",
   "execution_count": 38,
   "metadata": {},
   "outputs": [
    {
     "data": {
      "text/plain": [
       "Suburb              0\n",
       "Address             0\n",
       "Rooms               0\n",
       "Type                0\n",
       "Price               0\n",
       "Method              0\n",
       "SellerG             0\n",
       "Date                0\n",
       "Distance            0\n",
       "Postcode            0\n",
       "Bedroom2            0\n",
       "Bathroom            0\n",
       "Car                62\n",
       "Landsize            0\n",
       "BuildingArea        0\n",
       "YearBuilt           0\n",
       "CouncilArea      1369\n",
       "Lattitude           0\n",
       "Longtitude          0\n",
       "Regionname          0\n",
       "Propertycount       0\n",
       "dtype: int64"
      ]
     },
     "execution_count": 38,
     "metadata": {},
     "output_type": "execute_result"
    }
   ],
   "source": [
    "df.isnull().sum()"
   ]
  },
  {
   "cell_type": "code",
   "execution_count": 39,
   "metadata": {},
   "outputs": [],
   "source": [
    "df[\"Car\"].fillna(df[\"Car\"].mean(),inplace=True)"
   ]
  },
  {
   "cell_type": "code",
   "execution_count": 40,
   "metadata": {},
   "outputs": [
    {
     "data": {
      "text/plain": [
       "(13580, 21)"
      ]
     },
     "execution_count": 40,
     "metadata": {},
     "output_type": "execute_result"
    }
   ],
   "source": [
    "df.shape"
   ]
  },
  {
   "cell_type": "code",
   "execution_count": 41,
   "metadata": {},
   "outputs": [],
   "source": [
    "Mode_Category = df.CouncilArea.mode()[0]"
   ]
  },
  {
   "cell_type": "code",
   "execution_count": 42,
   "metadata": {},
   "outputs": [],
   "source": [
    "df[\"CouncilArea\"].fillna(Mode_Category,inplace=True)"
   ]
  },
  {
   "cell_type": "code",
   "execution_count": 43,
   "metadata": {},
   "outputs": [
    {
     "data": {
      "text/plain": [
       "Suburb           0\n",
       "Address          0\n",
       "Rooms            0\n",
       "Type             0\n",
       "Price            0\n",
       "Method           0\n",
       "SellerG          0\n",
       "Date             0\n",
       "Distance         0\n",
       "Postcode         0\n",
       "Bedroom2         0\n",
       "Bathroom         0\n",
       "Car              0\n",
       "Landsize         0\n",
       "BuildingArea     0\n",
       "YearBuilt        0\n",
       "CouncilArea      0\n",
       "Lattitude        0\n",
       "Longtitude       0\n",
       "Regionname       0\n",
       "Propertycount    0\n",
       "dtype: int64"
      ]
     },
     "execution_count": 43,
     "metadata": {},
     "output_type": "execute_result"
    }
   ],
   "source": [
    "df.isnull().sum()"
   ]
  },
  {
   "cell_type": "code",
   "execution_count": 44,
   "metadata": {},
   "outputs": [],
   "source": [
    "#separate numerical type column and object type column and store in new dataset\n",
    "df_num=df.select_dtypes([\"int64\",\"float64\"])\n",
    "df_cat=df.select_dtypes(object)"
   ]
  },
  {
   "cell_type": "code",
   "execution_count": 45,
   "metadata": {},
   "outputs": [],
   "source": [
    "#change the object type data into numerical type then use LabelEncoder class\n",
    "from sklearn.preprocessing import LabelEncoder"
   ]
  },
  {
   "cell_type": "code",
   "execution_count": 46,
   "metadata": {},
   "outputs": [],
   "source": [
    "for col in df_cat :\n",
    "    le=LabelEncoder() #create the object of LabelEncoder class\n",
    "    df_cat[col]=le.fit_transform(df_cat[col])"
   ]
  },
  {
   "cell_type": "code",
   "execution_count": 47,
   "metadata": {},
   "outputs": [
    {
     "data": {
      "text/html": [
       "<div>\n",
       "<style scoped>\n",
       "    .dataframe tbody tr th:only-of-type {\n",
       "        vertical-align: middle;\n",
       "    }\n",
       "\n",
       "    .dataframe tbody tr th {\n",
       "        vertical-align: top;\n",
       "    }\n",
       "\n",
       "    .dataframe thead th {\n",
       "        text-align: right;\n",
       "    }\n",
       "</style>\n",
       "<table border=\"1\" class=\"dataframe\">\n",
       "  <thead>\n",
       "    <tr style=\"text-align: right;\">\n",
       "      <th></th>\n",
       "      <th>Suburb</th>\n",
       "      <th>Address</th>\n",
       "      <th>Type</th>\n",
       "      <th>Method</th>\n",
       "      <th>SellerG</th>\n",
       "      <th>Date</th>\n",
       "      <th>CouncilArea</th>\n",
       "      <th>Regionname</th>\n",
       "    </tr>\n",
       "  </thead>\n",
       "  <tbody>\n",
       "    <tr>\n",
       "      <th>0</th>\n",
       "      <td>0</td>\n",
       "      <td>12794</td>\n",
       "      <td>0</td>\n",
       "      <td>1</td>\n",
       "      <td>23</td>\n",
       "      <td>4</td>\n",
       "      <td>31</td>\n",
       "      <td>2</td>\n",
       "    </tr>\n",
       "    <tr>\n",
       "      <th>1</th>\n",
       "      <td>0</td>\n",
       "      <td>5943</td>\n",
       "      <td>0</td>\n",
       "      <td>1</td>\n",
       "      <td>23</td>\n",
       "      <td>5</td>\n",
       "      <td>31</td>\n",
       "      <td>2</td>\n",
       "    </tr>\n",
       "    <tr>\n",
       "      <th>2</th>\n",
       "      <td>0</td>\n",
       "      <td>9814</td>\n",
       "      <td>0</td>\n",
       "      <td>3</td>\n",
       "      <td>23</td>\n",
       "      <td>6</td>\n",
       "      <td>31</td>\n",
       "      <td>2</td>\n",
       "    </tr>\n",
       "    <tr>\n",
       "      <th>3</th>\n",
       "      <td>0</td>\n",
       "      <td>9004</td>\n",
       "      <td>0</td>\n",
       "      <td>0</td>\n",
       "      <td>23</td>\n",
       "      <td>6</td>\n",
       "      <td>31</td>\n",
       "      <td>2</td>\n",
       "    </tr>\n",
       "    <tr>\n",
       "      <th>4</th>\n",
       "      <td>0</td>\n",
       "      <td>10589</td>\n",
       "      <td>0</td>\n",
       "      <td>4</td>\n",
       "      <td>155</td>\n",
       "      <td>7</td>\n",
       "      <td>31</td>\n",
       "      <td>2</td>\n",
       "    </tr>\n",
       "  </tbody>\n",
       "</table>\n",
       "</div>"
      ],
      "text/plain": [
       "   Suburb  Address  Type  Method  SellerG  Date  CouncilArea  Regionname\n",
       "0       0    12794     0       1       23     4           31           2\n",
       "1       0     5943     0       1       23     5           31           2\n",
       "2       0     9814     0       3       23     6           31           2\n",
       "3       0     9004     0       0       23     6           31           2\n",
       "4       0    10589     0       4      155     7           31           2"
      ]
     },
     "execution_count": 47,
     "metadata": {},
     "output_type": "execute_result"
    }
   ],
   "source": [
    "df_cat.head()"
   ]
  },
  {
   "cell_type": "code",
   "execution_count": 48,
   "metadata": {},
   "outputs": [],
   "source": [
    "#concatenation of both dataset df_num and df_cat and hold new dataset df_new\n",
    "df_new=pd.concat([df_num,df_cat],axis=1)"
   ]
  },
  {
   "cell_type": "code",
   "execution_count": 49,
   "metadata": {},
   "outputs": [
    {
     "data": {
      "text/html": [
       "<div>\n",
       "<style scoped>\n",
       "    .dataframe tbody tr th:only-of-type {\n",
       "        vertical-align: middle;\n",
       "    }\n",
       "\n",
       "    .dataframe tbody tr th {\n",
       "        vertical-align: top;\n",
       "    }\n",
       "\n",
       "    .dataframe thead th {\n",
       "        text-align: right;\n",
       "    }\n",
       "</style>\n",
       "<table border=\"1\" class=\"dataframe\">\n",
       "  <thead>\n",
       "    <tr style=\"text-align: right;\">\n",
       "      <th></th>\n",
       "      <th>Rooms</th>\n",
       "      <th>Price</th>\n",
       "      <th>Distance</th>\n",
       "      <th>Postcode</th>\n",
       "      <th>Bedroom2</th>\n",
       "      <th>Bathroom</th>\n",
       "      <th>Car</th>\n",
       "      <th>Landsize</th>\n",
       "      <th>BuildingArea</th>\n",
       "      <th>YearBuilt</th>\n",
       "      <th>...</th>\n",
       "      <th>Longtitude</th>\n",
       "      <th>Propertycount</th>\n",
       "      <th>Suburb</th>\n",
       "      <th>Address</th>\n",
       "      <th>Type</th>\n",
       "      <th>Method</th>\n",
       "      <th>SellerG</th>\n",
       "      <th>Date</th>\n",
       "      <th>CouncilArea</th>\n",
       "      <th>Regionname</th>\n",
       "    </tr>\n",
       "  </thead>\n",
       "  <tbody>\n",
       "    <tr>\n",
       "      <th>0</th>\n",
       "      <td>2</td>\n",
       "      <td>1480000</td>\n",
       "      <td>2.5</td>\n",
       "      <td>3067</td>\n",
       "      <td>2</td>\n",
       "      <td>1</td>\n",
       "      <td>1.0</td>\n",
       "      <td>202</td>\n",
       "      <td>151.96765</td>\n",
       "      <td>1964.684217</td>\n",
       "      <td>...</td>\n",
       "      <td>144.9984</td>\n",
       "      <td>4019</td>\n",
       "      <td>0</td>\n",
       "      <td>12794</td>\n",
       "      <td>0</td>\n",
       "      <td>1</td>\n",
       "      <td>23</td>\n",
       "      <td>4</td>\n",
       "      <td>31</td>\n",
       "      <td>2</td>\n",
       "    </tr>\n",
       "    <tr>\n",
       "      <th>1</th>\n",
       "      <td>2</td>\n",
       "      <td>1035000</td>\n",
       "      <td>2.5</td>\n",
       "      <td>3067</td>\n",
       "      <td>2</td>\n",
       "      <td>1</td>\n",
       "      <td>0.0</td>\n",
       "      <td>156</td>\n",
       "      <td>79.00000</td>\n",
       "      <td>1900.000000</td>\n",
       "      <td>...</td>\n",
       "      <td>144.9934</td>\n",
       "      <td>4019</td>\n",
       "      <td>0</td>\n",
       "      <td>5943</td>\n",
       "      <td>0</td>\n",
       "      <td>1</td>\n",
       "      <td>23</td>\n",
       "      <td>5</td>\n",
       "      <td>31</td>\n",
       "      <td>2</td>\n",
       "    </tr>\n",
       "    <tr>\n",
       "      <th>2</th>\n",
       "      <td>3</td>\n",
       "      <td>1465000</td>\n",
       "      <td>2.5</td>\n",
       "      <td>3067</td>\n",
       "      <td>3</td>\n",
       "      <td>2</td>\n",
       "      <td>0.0</td>\n",
       "      <td>134</td>\n",
       "      <td>150.00000</td>\n",
       "      <td>1900.000000</td>\n",
       "      <td>...</td>\n",
       "      <td>144.9944</td>\n",
       "      <td>4019</td>\n",
       "      <td>0</td>\n",
       "      <td>9814</td>\n",
       "      <td>0</td>\n",
       "      <td>3</td>\n",
       "      <td>23</td>\n",
       "      <td>6</td>\n",
       "      <td>31</td>\n",
       "      <td>2</td>\n",
       "    </tr>\n",
       "    <tr>\n",
       "      <th>3</th>\n",
       "      <td>3</td>\n",
       "      <td>850000</td>\n",
       "      <td>2.5</td>\n",
       "      <td>3067</td>\n",
       "      <td>3</td>\n",
       "      <td>2</td>\n",
       "      <td>1.0</td>\n",
       "      <td>94</td>\n",
       "      <td>151.96765</td>\n",
       "      <td>1964.684217</td>\n",
       "      <td>...</td>\n",
       "      <td>144.9969</td>\n",
       "      <td>4019</td>\n",
       "      <td>0</td>\n",
       "      <td>9004</td>\n",
       "      <td>0</td>\n",
       "      <td>0</td>\n",
       "      <td>23</td>\n",
       "      <td>6</td>\n",
       "      <td>31</td>\n",
       "      <td>2</td>\n",
       "    </tr>\n",
       "    <tr>\n",
       "      <th>4</th>\n",
       "      <td>4</td>\n",
       "      <td>1600000</td>\n",
       "      <td>2.5</td>\n",
       "      <td>3067</td>\n",
       "      <td>3</td>\n",
       "      <td>1</td>\n",
       "      <td>2.0</td>\n",
       "      <td>120</td>\n",
       "      <td>142.00000</td>\n",
       "      <td>2014.000000</td>\n",
       "      <td>...</td>\n",
       "      <td>144.9941</td>\n",
       "      <td>4019</td>\n",
       "      <td>0</td>\n",
       "      <td>10589</td>\n",
       "      <td>0</td>\n",
       "      <td>4</td>\n",
       "      <td>155</td>\n",
       "      <td>7</td>\n",
       "      <td>31</td>\n",
       "      <td>2</td>\n",
       "    </tr>\n",
       "  </tbody>\n",
       "</table>\n",
       "<p>5 rows × 21 columns</p>\n",
       "</div>"
      ],
      "text/plain": [
       "   Rooms    Price  Distance  Postcode  Bedroom2  Bathroom  Car  Landsize  \\\n",
       "0      2  1480000       2.5      3067         2         1  1.0       202   \n",
       "1      2  1035000       2.5      3067         2         1  0.0       156   \n",
       "2      3  1465000       2.5      3067         3         2  0.0       134   \n",
       "3      3   850000       2.5      3067         3         2  1.0        94   \n",
       "4      4  1600000       2.5      3067         3         1  2.0       120   \n",
       "\n",
       "   BuildingArea    YearBuilt  ...  Longtitude  Propertycount  Suburb  Address  \\\n",
       "0     151.96765  1964.684217  ...    144.9984           4019       0    12794   \n",
       "1      79.00000  1900.000000  ...    144.9934           4019       0     5943   \n",
       "2     150.00000  1900.000000  ...    144.9944           4019       0     9814   \n",
       "3     151.96765  1964.684217  ...    144.9969           4019       0     9004   \n",
       "4     142.00000  2014.000000  ...    144.9941           4019       0    10589   \n",
       "\n",
       "   Type  Method  SellerG  Date  CouncilArea  Regionname  \n",
       "0     0       1       23     4           31           2  \n",
       "1     0       1       23     5           31           2  \n",
       "2     0       3       23     6           31           2  \n",
       "3     0       0       23     6           31           2  \n",
       "4     0       4      155     7           31           2  \n",
       "\n",
       "[5 rows x 21 columns]"
      ]
     },
     "execution_count": 49,
     "metadata": {},
     "output_type": "execute_result"
    }
   ],
   "source": [
    "df_new.head()"
   ]
  },
  {
   "cell_type": "code",
   "execution_count": 50,
   "metadata": {},
   "outputs": [],
   "source": [
    "#select X and Y means input and output from dataset df_new\n",
    "X=df_new.drop(\"Price\",axis=1)\n",
    "Y=df_new[\"Price\"]#target variable"
   ]
  },
  {
   "cell_type": "code",
   "execution_count": 51,
   "metadata": {},
   "outputs": [],
   "source": [
    "#train_test_split\n",
    "from sklearn.model_selection import train_test_split"
   ]
  },
  {
   "cell_type": "code",
   "execution_count": 53,
   "metadata": {},
   "outputs": [],
   "source": [
    "X_train,X_test,Y_train,Y_test=train_test_split(X,Y,test_size=0.2,random_state=1)"
   ]
  },
  {
   "cell_type": "code",
   "execution_count": 54,
   "metadata": {},
   "outputs": [],
   "source": [
    "from sklearn.linear_model import LinearRegression"
   ]
  },
  {
   "cell_type": "code",
   "execution_count": 55,
   "metadata": {},
   "outputs": [],
   "source": [
    "#perform this dataset from linear regression\n",
    "#create the object of LinearRegression\n",
    "lr=LinearRegression()"
   ]
  },
  {
   "cell_type": "code",
   "execution_count": 56,
   "metadata": {},
   "outputs": [
    {
     "data": {
      "text/plain": [
       "LinearRegression(copy_X=True, fit_intercept=True, n_jobs=None, normalize=False)"
      ]
     },
     "execution_count": 56,
     "metadata": {},
     "output_type": "execute_result"
    }
   ],
   "source": [
    "#train the model\n",
    "lr.fit(X_train,Y_train)"
   ]
  },
  {
   "cell_type": "code",
   "execution_count": 57,
   "metadata": {},
   "outputs": [
    {
     "data": {
      "text/plain": [
       "0.5783169230877807"
      ]
     },
     "execution_count": 57,
     "metadata": {},
     "output_type": "execute_result"
    }
   ],
   "source": [
    "#check training score after train the model\n",
    "lr.score(X_train,Y_train)"
   ]
  },
  {
   "cell_type": "code",
   "execution_count": 58,
   "metadata": {},
   "outputs": [
    {
     "data": {
      "text/plain": [
       "0.5910828693255014"
      ]
     },
     "execution_count": 58,
     "metadata": {},
     "output_type": "execute_result"
    }
   ],
   "source": [
    "#testing score\n",
    "lr.score(X_test,Y_test)"
   ]
  },
  {
   "cell_type": "code",
   "execution_count": 59,
   "metadata": {},
   "outputs": [],
   "source": [
    "from sklearn.linear_model import Lasso #lambda*sumof(abs(all coefficient))"
   ]
  },
  {
   "cell_type": "code",
   "execution_count": 60,
   "metadata": {},
   "outputs": [],
   "source": [
    "#create object of Lasso class\n",
    "#range of lambda/alpha (hyper parameter ) 200-1000\n",
    "l1=Lasso(1000)#pass value of lambda "
   ]
  },
  {
   "cell_type": "code",
   "execution_count": 61,
   "metadata": {},
   "outputs": [
    {
     "data": {
      "text/plain": [
       "Lasso(alpha=1000, copy_X=True, fit_intercept=True, max_iter=1000,\n",
       "      normalize=False, positive=False, precompute=False, random_state=None,\n",
       "      selection='cyclic', tol=0.0001, warm_start=False)"
      ]
     },
     "execution_count": 61,
     "metadata": {},
     "output_type": "execute_result"
    }
   ],
   "source": [
    "l1.fit(X_train,Y_train)"
   ]
  },
  {
   "cell_type": "code",
   "execution_count": 62,
   "metadata": {},
   "outputs": [
    {
     "name": "stdout",
     "output_type": "stream",
     "text": [
      "Value of Lambda :  200  Score :  0.5910338913828524\n",
      "Value of Lambda :  250  Score :  0.5910125533416499\n",
      "Value of Lambda :  300  Score :  0.590987585352988\n",
      "Value of Lambda :  350  Score :  0.5909589789993064\n",
      "Value of Lambda :  400  Score :  0.5909267341247693\n",
      "Value of Lambda :  450  Score :  0.5908908505543956\n",
      "Value of Lambda :  500  Score :  0.590851344679796\n",
      "Value of Lambda :  550  Score :  0.5908081851414488\n",
      "Value of Lambda :  600  Score :  0.5907614050948587\n",
      "Value of Lambda :  650  Score :  0.5907109693729599\n",
      "Value of Lambda :  700  Score :  0.5906569151568957\n",
      "Value of Lambda :  750  Score :  0.5905992030097088\n",
      "Value of Lambda :  800  Score :  0.5905378746269938\n",
      "Value of Lambda :  850  Score :  0.5904729091479064\n",
      "Value of Lambda :  900  Score :  0.5904043065724742\n",
      "Value of Lambda :  950  Score :  0.5903320435945936\n",
      "Value of Lambda :  1000  Score :  0.5902561668556399\n"
     ]
    }
   ],
   "source": [
    "#How to select the right value of lambda/alpha   in Lasso regularization\n",
    "for i in range(200,1001,50) :  #start=200 stop=1001-1=1000 and step=+50\n",
    "    #create object of Lasso\n",
    "    l1=Lasso(i)\n",
    "    #train\n",
    "    l1.fit(X_train,Y_train)\n",
    "    print(\"Value of Lambda : \",i,\" Score : \",l1.score(X_test,Y_test))"
   ]
  },
  {
   "cell_type": "code",
   "execution_count": 63,
   "metadata": {},
   "outputs": [],
   "source": [
    "from sklearn.linear_model import Ridge #lambda*sumof(sqr(all coefficient))"
   ]
  },
  {
   "cell_type": "code",
   "execution_count": 64,
   "metadata": {},
   "outputs": [],
   "source": [
    "#call class\n",
    "from sklearn.model_selection import cross_val_score\n",
    "#cross_val_score inbuilt clas"
   ]
  },
  {
   "cell_type": "code",
   "execution_count": 65,
   "metadata": {},
   "outputs": [],
   "source": [
    "#Create the object of Lasso and Ridge regularization\n",
    "l1=Lasso(200) #passing the value of lambda=200\n",
    "l2=Ridge(2) #passing  the value of lambda/alpha="
   ]
  },
  {
   "cell_type": "code",
   "execution_count": 68,
   "metadata": {},
   "outputs": [],
   "source": [
    "#apply cross validation on lasso regularisztion\n",
    "#create the object of cross_val_score\n",
    "l1_cross=cross_val_score(l1,X,Y,cv=4) #cv means how many folds means how many \n",
    "#parts or iteration"
   ]
  },
  {
   "cell_type": "code",
   "execution_count": 69,
   "metadata": {},
   "outputs": [
    {
     "data": {
      "text/plain": [
       "array([0.61555259, 0.57669199, 0.57805242, 0.15601844])"
      ]
     },
     "execution_count": 69,
     "metadata": {},
     "output_type": "execute_result"
    }
   ],
   "source": [
    "#check l1_cross\n",
    "l1_cross"
   ]
  },
  {
   "cell_type": "code",
   "execution_count": 70,
   "metadata": {},
   "outputs": [],
   "source": [
    "#apply cross validation onRTidge regularisztion\n",
    "#create the object of cross_val_score\n",
    "l2_cross=cross_val_score(l2,X,Y,cv=4) #cv means how many folds means how many \n",
    "#parts or iteration"
   ]
  },
  {
   "cell_type": "code",
   "execution_count": 71,
   "metadata": {},
   "outputs": [
    {
     "data": {
      "text/plain": [
       "array([0.61563437, 0.5767858 , 0.57814793, 0.15687281])"
      ]
     },
     "execution_count": 71,
     "metadata": {},
     "output_type": "execute_result"
    }
   ],
   "source": [
    "#check\n",
    "l2_cross"
   ]
  },
  {
   "cell_type": "code",
   "execution_count": 73,
   "metadata": {},
   "outputs": [
    {
     "data": {
      "text/plain": [
       "0.48186022884533697"
      ]
     },
     "execution_count": 73,
     "metadata": {},
     "output_type": "execute_result"
    }
   ],
   "source": [
    "#find the mean means average\n",
    "np.mean(l2_cross)"
   ]
  },
  {
   "cell_type": "code",
   "execution_count": null,
   "metadata": {},
   "outputs": [],
   "source": []
  }
 ],
 "metadata": {
  "kernelspec": {
   "display_name": "Python 3",
   "language": "python",
   "name": "python3"
  },
  "language_info": {
   "codemirror_mode": {
    "name": "ipython",
    "version": 3
   },
   "file_extension": ".py",
   "mimetype": "text/x-python",
   "name": "python",
   "nbconvert_exporter": "python",
   "pygments_lexer": "ipython3",
   "version": "3.7.6"
  }
 },
 "nbformat": 4,
 "nbformat_minor": 4
}
